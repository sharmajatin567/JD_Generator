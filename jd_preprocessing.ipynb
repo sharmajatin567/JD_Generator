{
 "cells": [
  {
   "cell_type": "code",
   "execution_count": 1,
   "id": "3e267a67",
   "metadata": {},
   "outputs": [],
   "source": [
    "import pandas as pd\n",
    "import re"
   ]
  },
  {
   "cell_type": "code",
   "execution_count": 20,
   "id": "f21768b1",
   "metadata": {},
   "outputs": [],
   "source": [
    "data = pd.read_csv('naukri_com-job_sample.csv')"
   ]
  },
  {
   "cell_type": "code",
   "execution_count": 7,
   "id": "1ba2c035",
   "metadata": {},
   "outputs": [],
   "source": [
    "data['combine'] = data['company']+ ''+data['education']"
   ]
  },
  {
   "cell_type": "code",
   "execution_count": 22,
   "id": "0f6e5d14",
   "metadata": {},
   "outputs": [],
   "source": [
    "def remover(x):\n",
    "    x = str(x)\n",
    "    y = x.replace(\"Job Description \\xa0 Send me Jobs like this\",\"\")\n",
    "    return y"
   ]
  },
  {
   "cell_type": "code",
   "execution_count": 21,
   "id": "abddcf6b",
   "metadata": {},
   "outputs": [
    {
     "data": {
      "text/html": [
       "<div>\n",
       "<style scoped>\n",
       "    .dataframe tbody tr th:only-of-type {\n",
       "        vertical-align: middle;\n",
       "    }\n",
       "\n",
       "    .dataframe tbody tr th {\n",
       "        vertical-align: top;\n",
       "    }\n",
       "\n",
       "    .dataframe thead th {\n",
       "        text-align: right;\n",
       "    }\n",
       "</style>\n",
       "<table border=\"1\" class=\"dataframe\">\n",
       "  <thead>\n",
       "    <tr style=\"text-align: right;\">\n",
       "      <th></th>\n",
       "      <th>company</th>\n",
       "      <th>education</th>\n",
       "      <th>experience</th>\n",
       "      <th>industry</th>\n",
       "      <th>jobdescription</th>\n",
       "      <th>jobid</th>\n",
       "      <th>joblocation_address</th>\n",
       "      <th>jobtitle</th>\n",
       "      <th>numberofpositions</th>\n",
       "      <th>payrate</th>\n",
       "      <th>postdate</th>\n",
       "      <th>site_name</th>\n",
       "      <th>skills</th>\n",
       "      <th>uniq_id</th>\n",
       "    </tr>\n",
       "  </thead>\n",
       "  <tbody>\n",
       "    <tr>\n",
       "      <th>0</th>\n",
       "      <td>MM Media Pvt Ltd</td>\n",
       "      <td>UG: B.Tech/B.E. - Any Specialization PG:Any Po...</td>\n",
       "      <td>0 - 1 yrs</td>\n",
       "      <td>Media / Entertainment / Internet</td>\n",
       "      <td>Job Description   Send me Jobs like this Quali...</td>\n",
       "      <td>210516002263</td>\n",
       "      <td>Chennai</td>\n",
       "      <td>Walkin Data Entry Operator (night Shift)</td>\n",
       "      <td>NaN</td>\n",
       "      <td>1,50,000 - 2,25,000 P.A</td>\n",
       "      <td>2016-05-21 19:30:00 +0000</td>\n",
       "      <td>NaN</td>\n",
       "      <td>ITES</td>\n",
       "      <td>43b19632647068535437c774b6ca6cf8</td>\n",
       "    </tr>\n",
       "    <tr>\n",
       "      <th>1</th>\n",
       "      <td>find live infotech</td>\n",
       "      <td>UG: B.Tech/B.E. - Any Specialization PG:MBA/PG...</td>\n",
       "      <td>0 - 0 yrs</td>\n",
       "      <td>Advertising / PR / MR / Event Management</td>\n",
       "      <td>Job Description   Send me Jobs like this Quali...</td>\n",
       "      <td>210516002391</td>\n",
       "      <td>Chennai</td>\n",
       "      <td>Work Based Onhome Based Part Time.</td>\n",
       "      <td>60.0</td>\n",
       "      <td>1,50,000 - 2,50,000 P.A. 20000</td>\n",
       "      <td>2016-05-21 19:30:00 +0000</td>\n",
       "      <td>NaN</td>\n",
       "      <td>Marketing</td>\n",
       "      <td>d4c72325e57f89f364812b5ed5a795f0</td>\n",
       "    </tr>\n",
       "    <tr>\n",
       "      <th>2</th>\n",
       "      <td>Softtech Career Infosystem Pvt. Ltd</td>\n",
       "      <td>UG: Any Graduate - Any Specialization PG:Any P...</td>\n",
       "      <td>4 - 8 yrs</td>\n",
       "      <td>IT-Software / Software Services</td>\n",
       "      <td>Job Description   Send me Jobs like this - as ...</td>\n",
       "      <td>101016900534</td>\n",
       "      <td>Bengaluru</td>\n",
       "      <td>Pl/sql Developer - SQL</td>\n",
       "      <td>NaN</td>\n",
       "      <td>Not Disclosed by Recruiter</td>\n",
       "      <td>2016-10-13 16:20:55 +0000</td>\n",
       "      <td>NaN</td>\n",
       "      <td>IT Software - Application Programming</td>\n",
       "      <td>c47df6f4cfdf5b46f1fd713ba61b9eba</td>\n",
       "    </tr>\n",
       "    <tr>\n",
       "      <th>3</th>\n",
       "      <td>Onboard HRServices LLP</td>\n",
       "      <td>UG: Any Graduate - Any Specialization PG:CA Do...</td>\n",
       "      <td>11 - 15 yrs</td>\n",
       "      <td>Banking / Financial Services / Broking</td>\n",
       "      <td>Job Description   Send me Jobs like this - Inv...</td>\n",
       "      <td>81016900536</td>\n",
       "      <td>Mumbai, Bengaluru, Kolkata, Chennai, Coimbator...</td>\n",
       "      <td>Manager/ad/partner - Indirect Tax - CA</td>\n",
       "      <td>NaN</td>\n",
       "      <td>Not Disclosed by Recruiter</td>\n",
       "      <td>2016-10-13 16:20:55 +0000</td>\n",
       "      <td>NaN</td>\n",
       "      <td>Accounts</td>\n",
       "      <td>115d28f140f694dd1cc61c53d03c66ae</td>\n",
       "    </tr>\n",
       "    <tr>\n",
       "      <th>4</th>\n",
       "      <td>Spire Technologies and Solutions Pvt. Ltd.</td>\n",
       "      <td>UG: B.Tech/B.E. - Any Specialization PG:Any Po...</td>\n",
       "      <td>6 - 8 yrs</td>\n",
       "      <td>IT-Software / Software Services</td>\n",
       "      <td>Job Description   Send me Jobs like this Pleas...</td>\n",
       "      <td>120916002122</td>\n",
       "      <td>Bengaluru</td>\n",
       "      <td>JAVA Technical Lead (6-8 yrs) -</td>\n",
       "      <td>4.0</td>\n",
       "      <td>Not Disclosed by Recruiter</td>\n",
       "      <td>2016-10-13 16:20:55 +0000</td>\n",
       "      <td>NaN</td>\n",
       "      <td>IT Software - Application Programming</td>\n",
       "      <td>a12553fc03bc7bcced8b1bb8963f97b4</td>\n",
       "    </tr>\n",
       "    <tr>\n",
       "      <th>...</th>\n",
       "      <td>...</td>\n",
       "      <td>...</td>\n",
       "      <td>...</td>\n",
       "      <td>...</td>\n",
       "      <td>...</td>\n",
       "      <td>...</td>\n",
       "      <td>...</td>\n",
       "      <td>...</td>\n",
       "      <td>...</td>\n",
       "      <td>...</td>\n",
       "      <td>...</td>\n",
       "      <td>...</td>\n",
       "      <td>...</td>\n",
       "      <td>...</td>\n",
       "    </tr>\n",
       "    <tr>\n",
       "      <th>21995</th>\n",
       "      <td>Morgan Stanley Advantage Services Pvt. Ltd.</td>\n",
       "      <td>UG: Any Graduate - Any Specialization</td>\n",
       "      <td>9 - 13 yrs</td>\n",
       "      <td>Banking / Financial Services / Broking</td>\n",
       "      <td>Job Description   Send me Jobs like this Greet...</td>\n",
       "      <td>241116007152</td>\n",
       "      <td>Bengaluru</td>\n",
       "      <td>Quality Assurance - VP with Morgan Stanley Ban...</td>\n",
       "      <td>2.0</td>\n",
       "      <td>Not Disclosed by Recruiter</td>\n",
       "      <td>2016-11-25 22:47:05 +0000</td>\n",
       "      <td>www.naukri.com</td>\n",
       "      <td>IT Software - QA &amp; Testing</td>\n",
       "      <td>ef40136e3b0c0abdab695d979a4b7153</td>\n",
       "    </tr>\n",
       "    <tr>\n",
       "      <th>21996</th>\n",
       "      <td>Careernet Technologies Pvt Ltd hiring for Client</td>\n",
       "      <td>UG: B.Tech/B.E. - Any Specialization PG:M.Tech...</td>\n",
       "      <td>3 - 5 yrs</td>\n",
       "      <td>IT-Software / Software Services</td>\n",
       "      <td>Job Description   Send me Jobs like this Looki...</td>\n",
       "      <td>241116001104</td>\n",
       "      <td>Bengaluru, Gurgaon</td>\n",
       "      <td>Java Backend Developers for a Product Company</td>\n",
       "      <td>NaN</td>\n",
       "      <td>8,50,000 - 14,00,000 P.A</td>\n",
       "      <td>2016-11-24 22:47:05 +0000</td>\n",
       "      <td>www.naukri.com</td>\n",
       "      <td>IT Software - Application Programming</td>\n",
       "      <td>acb80b7bb109fa76d22d1f11c6e16c6a</td>\n",
       "    </tr>\n",
       "    <tr>\n",
       "      <th>21997</th>\n",
       "      <td>Musk - Startup</td>\n",
       "      <td>UG: B.Tech/B.E. - Any Specialization PG:Any Po...</td>\n",
       "      <td>2 - 4 yrs</td>\n",
       "      <td>Internet / Ecommerce</td>\n",
       "      <td>Job Description   Send me Jobs like this Work ...</td>\n",
       "      <td>251116900644</td>\n",
       "      <td>Bengaluru</td>\n",
       "      <td>Full Stack Development Engineer</td>\n",
       "      <td>NaN</td>\n",
       "      <td>Not Disclosed by Recruiter</td>\n",
       "      <td>2016-11-25 22:47:05 +0000</td>\n",
       "      <td>www.naukri.com</td>\n",
       "      <td>IT Software - Application Programming</td>\n",
       "      <td>f6f2885a6c87572616fb766029a0d284</td>\n",
       "    </tr>\n",
       "    <tr>\n",
       "      <th>21998</th>\n",
       "      <td>Confidential</td>\n",
       "      <td>UG: B.Tech/B.E. - Any Specialization PG:MCA - ...</td>\n",
       "      <td>7 - 12 yrs</td>\n",
       "      <td>IT-Software / Software Services</td>\n",
       "      <td>Job Description   Send me Jobs like this We ar...</td>\n",
       "      <td>231116901329</td>\n",
       "      <td>Delhi NCR, Bengaluru</td>\n",
       "      <td>Sr UI Developer/ Technical Lead - Html/ CSS/ J...</td>\n",
       "      <td>NaN</td>\n",
       "      <td>Not Disclosed by Recruiter</td>\n",
       "      <td>2016-11-27 22:47:05 +0000</td>\n",
       "      <td>www.naukri.com</td>\n",
       "      <td>IT Software - Application Programming</td>\n",
       "      <td>c6f6538cb1007dd02c1b4b77909b3d38</td>\n",
       "    </tr>\n",
       "    <tr>\n",
       "      <th>21999</th>\n",
       "      <td>Cambio Consulting India Pvt Ltd</td>\n",
       "      <td>UG: B.Tech/B.E. - Any Specialization PG:MCA - ...</td>\n",
       "      <td>5 - 10 yrs</td>\n",
       "      <td>IT-Software / Software Services</td>\n",
       "      <td>Job Description   Send me Jobs like this Job d...</td>\n",
       "      <td>251116003840</td>\n",
       "      <td>Bengaluru</td>\n",
       "      <td>RF Firmware Engineers</td>\n",
       "      <td>NaN</td>\n",
       "      <td>12,00,000 - 22,00,000 P.A</td>\n",
       "      <td>2016-11-25 22:47:05 +0000</td>\n",
       "      <td>www.naukri.com</td>\n",
       "      <td>IT Software - System Programming</td>\n",
       "      <td>74fec26df6e1c0be0171311a2f03f180</td>\n",
       "    </tr>\n",
       "  </tbody>\n",
       "</table>\n",
       "<p>22000 rows × 14 columns</p>\n",
       "</div>"
      ],
      "text/plain": [
       "                                                company  \\\n",
       "0                                      MM Media Pvt Ltd   \n",
       "1                                    find live infotech   \n",
       "2                   Softtech Career Infosystem Pvt. Ltd   \n",
       "3                                Onboard HRServices LLP   \n",
       "4            Spire Technologies and Solutions Pvt. Ltd.   \n",
       "...                                                 ...   \n",
       "21995       Morgan Stanley Advantage Services Pvt. Ltd.   \n",
       "21996  Careernet Technologies Pvt Ltd hiring for Client   \n",
       "21997                                    Musk - Startup   \n",
       "21998                                      Confidential   \n",
       "21999                   Cambio Consulting India Pvt Ltd   \n",
       "\n",
       "                                               education   experience  \\\n",
       "0      UG: B.Tech/B.E. - Any Specialization PG:Any Po...    0 - 1 yrs   \n",
       "1      UG: B.Tech/B.E. - Any Specialization PG:MBA/PG...    0 - 0 yrs   \n",
       "2      UG: Any Graduate - Any Specialization PG:Any P...    4 - 8 yrs   \n",
       "3      UG: Any Graduate - Any Specialization PG:CA Do...  11 - 15 yrs   \n",
       "4      UG: B.Tech/B.E. - Any Specialization PG:Any Po...    6 - 8 yrs   \n",
       "...                                                  ...          ...   \n",
       "21995              UG: Any Graduate - Any Specialization   9 - 13 yrs   \n",
       "21996  UG: B.Tech/B.E. - Any Specialization PG:M.Tech...    3 - 5 yrs   \n",
       "21997  UG: B.Tech/B.E. - Any Specialization PG:Any Po...    2 - 4 yrs   \n",
       "21998  UG: B.Tech/B.E. - Any Specialization PG:MCA - ...   7 - 12 yrs   \n",
       "21999  UG: B.Tech/B.E. - Any Specialization PG:MCA - ...   5 - 10 yrs   \n",
       "\n",
       "                                       industry  \\\n",
       "0              Media / Entertainment / Internet   \n",
       "1      Advertising / PR / MR / Event Management   \n",
       "2               IT-Software / Software Services   \n",
       "3        Banking / Financial Services / Broking   \n",
       "4               IT-Software / Software Services   \n",
       "...                                         ...   \n",
       "21995    Banking / Financial Services / Broking   \n",
       "21996           IT-Software / Software Services   \n",
       "21997                      Internet / Ecommerce   \n",
       "21998           IT-Software / Software Services   \n",
       "21999           IT-Software / Software Services   \n",
       "\n",
       "                                          jobdescription         jobid  \\\n",
       "0      Job Description   Send me Jobs like this Quali...  210516002263   \n",
       "1      Job Description   Send me Jobs like this Quali...  210516002391   \n",
       "2      Job Description   Send me Jobs like this - as ...  101016900534   \n",
       "3      Job Description   Send me Jobs like this - Inv...   81016900536   \n",
       "4      Job Description   Send me Jobs like this Pleas...  120916002122   \n",
       "...                                                  ...           ...   \n",
       "21995  Job Description   Send me Jobs like this Greet...  241116007152   \n",
       "21996  Job Description   Send me Jobs like this Looki...  241116001104   \n",
       "21997  Job Description   Send me Jobs like this Work ...  251116900644   \n",
       "21998  Job Description   Send me Jobs like this We ar...  231116901329   \n",
       "21999  Job Description   Send me Jobs like this Job d...  251116003840   \n",
       "\n",
       "                                     joblocation_address  \\\n",
       "0                                                Chennai   \n",
       "1                                                Chennai   \n",
       "2                                              Bengaluru   \n",
       "3      Mumbai, Bengaluru, Kolkata, Chennai, Coimbator...   \n",
       "4                                              Bengaluru   \n",
       "...                                                  ...   \n",
       "21995                                          Bengaluru   \n",
       "21996                                 Bengaluru, Gurgaon   \n",
       "21997                                          Bengaluru   \n",
       "21998                               Delhi NCR, Bengaluru   \n",
       "21999                                          Bengaluru   \n",
       "\n",
       "                                                jobtitle  numberofpositions  \\\n",
       "0               Walkin Data Entry Operator (night Shift)                NaN   \n",
       "1                     Work Based Onhome Based Part Time.               60.0   \n",
       "2                                 Pl/sql Developer - SQL                NaN   \n",
       "3                 Manager/ad/partner - Indirect Tax - CA                NaN   \n",
       "4                        JAVA Technical Lead (6-8 yrs) -                4.0   \n",
       "...                                                  ...                ...   \n",
       "21995  Quality Assurance - VP with Morgan Stanley Ban...                2.0   \n",
       "21996      Java Backend Developers for a Product Company                NaN   \n",
       "21997                    Full Stack Development Engineer                NaN   \n",
       "21998  Sr UI Developer/ Technical Lead - Html/ CSS/ J...                NaN   \n",
       "21999                              RF Firmware Engineers                NaN   \n",
       "\n",
       "                              payrate                   postdate  \\\n",
       "0             1,50,000 - 2,25,000 P.A  2016-05-21 19:30:00 +0000   \n",
       "1      1,50,000 - 2,50,000 P.A. 20000  2016-05-21 19:30:00 +0000   \n",
       "2          Not Disclosed by Recruiter  2016-10-13 16:20:55 +0000   \n",
       "3          Not Disclosed by Recruiter  2016-10-13 16:20:55 +0000   \n",
       "4          Not Disclosed by Recruiter  2016-10-13 16:20:55 +0000   \n",
       "...                               ...                        ...   \n",
       "21995      Not Disclosed by Recruiter  2016-11-25 22:47:05 +0000   \n",
       "21996        8,50,000 - 14,00,000 P.A  2016-11-24 22:47:05 +0000   \n",
       "21997      Not Disclosed by Recruiter  2016-11-25 22:47:05 +0000   \n",
       "21998      Not Disclosed by Recruiter  2016-11-27 22:47:05 +0000   \n",
       "21999       12,00,000 - 22,00,000 P.A  2016-11-25 22:47:05 +0000   \n",
       "\n",
       "            site_name                                 skills  \\\n",
       "0                 NaN                                   ITES   \n",
       "1                 NaN                              Marketing   \n",
       "2                 NaN  IT Software - Application Programming   \n",
       "3                 NaN                               Accounts   \n",
       "4                 NaN  IT Software - Application Programming   \n",
       "...               ...                                    ...   \n",
       "21995  www.naukri.com             IT Software - QA & Testing   \n",
       "21996  www.naukri.com  IT Software - Application Programming   \n",
       "21997  www.naukri.com  IT Software - Application Programming   \n",
       "21998  www.naukri.com  IT Software - Application Programming   \n",
       "21999  www.naukri.com       IT Software - System Programming   \n",
       "\n",
       "                                uniq_id  \n",
       "0      43b19632647068535437c774b6ca6cf8  \n",
       "1      d4c72325e57f89f364812b5ed5a795f0  \n",
       "2      c47df6f4cfdf5b46f1fd713ba61b9eba  \n",
       "3      115d28f140f694dd1cc61c53d03c66ae  \n",
       "4      a12553fc03bc7bcced8b1bb8963f97b4  \n",
       "...                                 ...  \n",
       "21995  ef40136e3b0c0abdab695d979a4b7153  \n",
       "21996  acb80b7bb109fa76d22d1f11c6e16c6a  \n",
       "21997  f6f2885a6c87572616fb766029a0d284  \n",
       "21998  c6f6538cb1007dd02c1b4b77909b3d38  \n",
       "21999  74fec26df6e1c0be0171311a2f03f180  \n",
       "\n",
       "[22000 rows x 14 columns]"
      ]
     },
     "execution_count": 21,
     "metadata": {},
     "output_type": "execute_result"
    }
   ],
   "source": [
    "data"
   ]
  },
  {
   "cell_type": "code",
   "execution_count": 24,
   "id": "859549d6",
   "metadata": {},
   "outputs": [],
   "source": [
    "def clean_text(text):\n",
    "    text = re.sub(r'\\n ','',str(text))\n",
    "    text = re.sub(r'\\n',' ',str(text))\n",
    "\n",
    "#     text = re.sub(r'[.,]','',str(text))\n",
    "#     text = text.replace('“', ' ').replace('”', ' ')\n",
    "#     text = re.sub(r'\\-',' ',str(text))\n",
    "#     text = re.sub(r'\\:','',str(text))\n",
    "#     text = re.sub(r'[\\/]','',str(text))\n",
    "    text = re.sub(r'[@$#&*+]','',str(text))\n",
    "#     text = re.sub(r'[()]','',str(text))\n",
    "    text = re.sub(r'–',' ',str(text))\n",
    "    text = re.sub(r'…',' ',str(text))\n",
    "#     text = re.sub(r'[0-9]','',str(tebxt))\n",
    "#     text = re.sub(r'\\?',' ',str(text))\n",
    "#     text = re.sub(r'\\;','',str(text))\n",
    "    text = re.sub(r'\\%','',str(text))\n",
    "    text = re.sub(r'Job Description \\xa0 Send me Jobs like this - ','',str(text))\n",
    "    text = re.sub(r'Job Description  Send me Jobs like this ','',str(text))\n",
    "    text = re.sub(r'\\xa0','',str(text))\n",
    "    text = re.sub(r'== >','',str(text))\n",
    "#     text = text.lower()\n",
    "    return str(text)"
   ]
  },
  {
   "cell_type": "code",
   "execution_count": 23,
   "id": "19b3b0d0",
   "metadata": {},
   "outputs": [
    {
     "data": {
      "text/plain": [
       "\" Please share your Resume on : regina.mary@spire2grow.com 1. Strong background in Java/J2EE, Data Structures, Algorithms, Design Patterns and Web services like REST. 2. HTML Scripting: Angular JS OR JQuery OR Knockout or Node.js or Meteor JS 3. SOA based Software development background 4. Experience in writing unit test cases using JUnit, TestNG etc. 5. Knowledge on Open Source tools used in development process (like Git) 6. Experience with relational databases (MySQL is a plus). 7. Experience in webservers like Tomcat. 8. Ability to do software development following Agile methodology Salary: Not Disclosed by Recruiter Industry: IT-Software / Software Services Functional Area: IT Software - Application Programming , Maintenance Role Category:Programming & Design Role:Team Lead/Technical Lead Keyskills Javascript HTML JQuery Java Tomcat MySQL Rest JUnit Web Services GIT Desired Candidate Profile Education Qualification- BE/B.Tech or ME/M.Tech, MCA from Premier Institute.Experience - 6-8 yearsJob Location: BangaloreINterview Location :Bangalore\\xa0Industry:Product BasedFunctional Area: IT Software - Application Programming, MaintenanceRole Category: Programming & DesignRole: Tech Lead***Note : Pay scale is open\\xa0 Education- UG: B.Tech/B.E. - Any Specialization PG:Any Postgraduate - Any Specialization, MCA - Computers, M.Tech - Any Specialization Doctorate:Any Doctorate - Any Specialization Company Profile: Spire Technologies and Solutions Pvt. Ltd. Spire is a contextual search and intelligence company, founded in 2006. Spire is unleashing a wave of business transformation world over with its contextual technology. We are looking for intelligent, energetic and motivated professionals who could make a difference, and become part of our journey towards setting next-generation landmarks. Spire enables businesses take bigger leaps in decision making from Big Data analytics by charting the unexplored territories. Towards this, Spire's platform contributes exponentially. We build highly scalable, multi-tenant, distributed, service-oriented, cloud-hosted SaaS and PaaS products. Spire uses latest open-source technologies including those related to Big Data which are industry standard and widely adopted. At Spire, we are passionate about developing positively disruptive technologies that have proven to be transformational for business outcomes. Spire Technologies is adjudged as the best IT employer and a dream company to work by Times Ascent. Work culture The Spire team is a diverse group of sharp, highly driven, entrepreneurial professionals. We thrive on experimentation and innovation in an informal setup; and offer a non-routine environment with excellent benefits package. We are passionate about enabling operational excellence for world's biggest and best organizations. At Spire, you are in the team of game changers where you will have the opportunity to push the limits and become part of the company's success story. Career growth awaits you! Come join Spire! Download PPT Photo 1 \\xa0 View Contact Details\""
      ]
     },
     "execution_count": 23,
     "metadata": {},
     "output_type": "execute_result"
    }
   ],
   "source": [
    "data['jobdescription'] = data['jobdescription'].apply(remover)\n",
    "data['jobdescription'][4]"
   ]
  },
  {
   "cell_type": "code",
   "execution_count": 25,
   "id": "894fe87c",
   "metadata": {},
   "outputs": [
    {
     "data": {
      "text/plain": [
       "\" Please share your Resume on : regina.maryspire2grow.com 1. Strong background in Java/J2EE, Data Structures, Algorithms, Design Patterns and Web services like REST. 2. HTML Scripting: Angular JS OR JQuery OR Knockout or Node.js or Meteor JS 3. SOA based Software development background 4. Experience in writing unit test cases using JUnit, TestNG etc. 5. Knowledge on Open Source tools used in development process (like Git) 6. Experience with relational databases (MySQL is a plus). 7. Experience in webservers like Tomcat. 8. Ability to do software development following Agile methodology Salary: Not Disclosed by Recruiter Industry: IT-Software / Software Services Functional Area: IT Software - Application Programming , Maintenance Role Category:Programming  Design Role:Team Lead/Technical Lead Keyskills Javascript HTML JQuery Java Tomcat MySQL Rest JUnit Web Services GIT Desired Candidate Profile Education Qualification- BE/B.Tech or ME/M.Tech, MCA from Premier Institute.Experience - 6-8 yearsJob Location: BangaloreINterview Location :BangaloreIndustry:Product BasedFunctional Area: IT Software - Application Programming, MaintenanceRole Category: Programming  DesignRole: Tech LeadNote : Pay scale is open Education- UG: B.Tech/B.E. - Any Specialization PG:Any Postgraduate - Any Specialization, MCA - Computers, M.Tech - Any Specialization Doctorate:Any Doctorate - Any Specialization Company Profile: Spire Technologies and Solutions Pvt. Ltd. Spire is a contextual search and intelligence company, founded in 2006. Spire is unleashing a wave of business transformation world over with its contextual technology. We are looking for intelligent, energetic and motivated professionals who could make a difference, and become part of our journey towards setting next-generation landmarks. Spire enables businesses take bigger leaps in decision making from Big Data analytics by charting the unexplored territories. Towards this, Spire's platform contributes exponentially. We build highly scalable, multi-tenant, distributed, service-oriented, cloud-hosted SaaS and PaaS products. Spire uses latest open-source technologies including those related to Big Data which are industry standard and widely adopted. At Spire, we are passionate about developing positively disruptive technologies that have proven to be transformational for business outcomes. Spire Technologies is adjudged as the best IT employer and a dream company to work by Times Ascent. Work culture The Spire team is a diverse group of sharp, highly driven, entrepreneurial professionals. We thrive on experimentation and innovation in an informal setup; and offer a non-routine environment with excellent benefits package. We are passionate about enabling operational excellence for world's biggest and best organizations. At Spire, you are in the team of game changers where you will have the opportunity to push the limits and become part of the company's success story. Career growth awaits you! Come join Spire! Download PPT Photo 1  View Contact Details\""
      ]
     },
     "execution_count": 25,
     "metadata": {},
     "output_type": "execute_result"
    }
   ],
   "source": [
    "data['jobdescription'] = data['jobdescription'].apply(clean_text)\n",
    "data['jobdescription'][4]"
   ]
  },
  {
   "cell_type": "code",
   "execution_count": 26,
   "id": "303da7b0",
   "metadata": {},
   "outputs": [
    {
     "data": {
      "text/plain": [
       "'Opening for Android Developer-bangalore-4-8 yrs'"
      ]
     },
     "execution_count": 26,
     "metadata": {},
     "output_type": "execute_result"
    }
   ],
   "source": [
    "data['jobtitle'][11]"
   ]
  },
  {
   "cell_type": "code",
   "execution_count": 27,
   "id": "2a9046b0",
   "metadata": {},
   "outputs": [],
   "source": [
    "def clean_title(text):\n",
    "    text = re.sub(r'\\n ','',str(text))\n",
    "    text = re.sub(r'\\n',' ',str(text))\n",
    "\n",
    "    text = re.sub(r'[.,]','',str(text))\n",
    "    text = text.replace('“', ' ').replace('”', ' ')\n",
    "    text = re.sub(r'\\-',' ',str(text))\n",
    "    text = re.sub(r'\\:','',str(text))\n",
    "    text = re.sub(r'[\\/]','',str(text))\n",
    "    text = re.sub(r'[@$#&*+]','',str(text))\n",
    "    text = re.sub(r'[()]','',str(text))\n",
    "    text = re.sub(r'–',' ',str(text))\n",
    "    text = re.sub(r'…',' ',str(text))\n",
    "    text = re.sub(r'[0-9]','',str(text))\n",
    "    text = re.sub(r'\\?',' ',str(text))\n",
    "    text = re.sub(r'\\;','',str(text))\n",
    "    text = re.sub(r'\\%','',str(text))\n",
    "    text = re.sub(r'Job Description \\xa0 Send me Jobs like this - ','',str(text))\n",
    "    text = re.sub(r'Job Description  Send me Jobs like this ','',str(text))\n",
    "    text = re.sub(r'\\xa0','',str(text))\n",
    "    text = re.sub(r'== >','',str(text))\n",
    "    text = re.sub(r'\\s+',\" \",str(text))\n",
    "    text = text.lower()\n",
    "    return str(text)"
   ]
  },
  {
   "cell_type": "code",
   "execution_count": 28,
   "id": "d6b5bb69",
   "metadata": {},
   "outputs": [
    {
     "data": {
      "text/plain": [
       "0    walkin data entry operator night shift\n",
       "1         work based onhome based part time\n",
       "2                       plsql developer sql\n",
       "3          manageradpartner indirect tax ca\n",
       "4                  java technical lead yrs \n",
       "Name: jobtitle, dtype: object"
      ]
     },
     "execution_count": 28,
     "metadata": {},
     "output_type": "execute_result"
    }
   ],
   "source": [
    "data['jobtitle'] = data['jobtitle'].apply(clean_title)\n",
    "data['jobtitle'][:5]"
   ]
  },
  {
   "cell_type": "code",
   "execution_count": 29,
   "id": "dcb1515d",
   "metadata": {},
   "outputs": [],
   "source": [
    "data['prompt'] = data['jobtitle'].apply(clean_again)"
   ]
  },
  {
   "cell_type": "code",
   "execution_count": 30,
   "id": "d64fb14f",
   "metadata": {},
   "outputs": [
    {
     "data": {
      "text/plain": [
       "'walkin data entry operator night shift'"
      ]
     },
     "execution_count": 30,
     "metadata": {},
     "output_type": "execute_result"
    }
   ],
   "source": [
    "data['prompt'][0]"
   ]
  },
  {
   "cell_type": "code",
   "execution_count": 12,
   "id": "e402f57e",
   "metadata": {},
   "outputs": [],
   "source": [
    "def clean_again(text):\n",
    "    text = str(text)\n",
    "    text = text.lower()\n",
    "    return text"
   ]
  },
  {
   "cell_type": "code",
   "execution_count": 31,
   "id": "61eac05a",
   "metadata": {},
   "outputs": [
    {
     "data": {
      "text/plain": [
       "0                   walkin data entry operator night shift\n",
       "1                        work based onhome based part time\n",
       "2                                      plsql developer sql\n",
       "3                         manageradpartner indirect tax ca\n",
       "4                                 java technical lead yrs \n",
       "                               ...                        \n",
       "21995    quality assurance vp with morgan stanley banga...\n",
       "21996        java backend developers for a product company\n",
       "21997                      full stack development engineer\n",
       "21998    sr ui developer technical lead html css javasc...\n",
       "21999                                rf firmware engineers\n",
       "Name: jobtitle, Length: 22000, dtype: object"
      ]
     },
     "execution_count": 31,
     "metadata": {},
     "output_type": "execute_result"
    }
   ],
   "source": [
    "data['jobtitle3'] = data['jobtitle'].apply(clean_again)\n",
    "data['jobtitle']"
   ]
  },
  {
   "cell_type": "code",
   "execution_count": 32,
   "id": "9b149a67",
   "metadata": {},
   "outputs": [
    {
     "data": {
      "text/plain": [
       "0        job description for the position of walkin dat...\n",
       "1        job description for the position of work based...\n",
       "2        job description for the position of plsql deve...\n",
       "3        job description for the position of manageradp...\n",
       "4        job description for the position of java techn...\n",
       "                               ...                        \n",
       "21995    job description for the position of quality as...\n",
       "21996    job description for the position of java backe...\n",
       "21997    job description for the position of full stack...\n",
       "21998    job description for the position of sr ui deve...\n",
       "21999    job description for the position of rf firmwar...\n",
       "Name: user, Length: 22000, dtype: object"
      ]
     },
     "execution_count": 32,
     "metadata": {},
     "output_type": "execute_result"
    }
   ],
   "source": [
    "data['user'] = \"job description for the position of \" + data['jobtitle']\n",
    "data['user']"
   ]
  },
  {
   "cell_type": "code",
   "execution_count": 34,
   "id": "7de429cf",
   "metadata": {},
   "outputs": [
    {
     "data": {
      "text/plain": [
       "0     Qualifications: -  10th To Graduation  Any Sk...\n",
       "1     Qualifications: -  10th To Graduation  Any Sk...\n",
       "2     - as a developer in providing application des...\n",
       "3     - Involved with all stages of indirect taxati...\n",
       "4     Please share your Resume on : regina.maryspir...\n",
       "5     We are currently hiring candidates willing to...\n",
       "6     experience/strong knowledge in PHP web applic...\n",
       "7     Job Description for Member Technical - Wire H...\n",
       "8     Independent handling of entire production lin...\n",
       "9     Overall Purpose of Job and Responsibilities P...\n",
       "Name: jobdescription, dtype: object"
      ]
     },
     "execution_count": 34,
     "metadata": {},
     "output_type": "execute_result"
    }
   ],
   "source": [
    "data['jobdescription'][:10]"
   ]
  },
  {
   "cell_type": "code",
   "execution_count": 35,
   "id": "e78e6bf5",
   "metadata": {},
   "outputs": [],
   "source": [
    "data2 = data[['user','jobdescription']]"
   ]
  },
  {
   "cell_type": "code",
   "execution_count": 36,
   "id": "1a9f5d41",
   "metadata": {},
   "outputs": [],
   "source": [
    "data3 = data2.head(1500)"
   ]
  },
  {
   "cell_type": "code",
   "execution_count": 37,
   "id": "f93a4e33",
   "metadata": {},
   "outputs": [],
   "source": [
    "data3.to_csv('jd_training3.csv',index = False)"
   ]
  }
 ],
 "metadata": {
  "kernelspec": {
   "display_name": "Python 3 (ipykernel)",
   "language": "python",
   "name": "python3"
  },
  "language_info": {
   "codemirror_mode": {
    "name": "ipython",
    "version": 3
   },
   "file_extension": ".py",
   "mimetype": "text/x-python",
   "name": "python",
   "nbconvert_exporter": "python",
   "pygments_lexer": "ipython3",
   "version": "3.9.7"
  }
 },
 "nbformat": 4,
 "nbformat_minor": 5
}
